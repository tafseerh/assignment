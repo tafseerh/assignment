{
 "cells": [
  {
   "cell_type": "code",
   "execution_count": 6,
   "id": "259b4cb8-cf2d-47dc-bec9-08eafeeb4884",
   "metadata": {},
   "outputs": [
    {
     "data": {
      "text/plain": [
       "'\\n## Introduction\\nThis notebook contains exercises related to Data Science concepts, languages, and libraries.\\n'"
      ]
     },
     "execution_count": 6,
     "metadata": {},
     "output_type": "execute_result"
    }
   ],
   "source": [
    "## Exercise 3 - Introduction\n",
    "\"\"\"\n",
    "## Introduction\n",
    "This notebook contains exercises related to Data Science concepts, languages, and libraries.\n",
    "\"\"\""
   ]
  },
  {
   "cell_type": "code",
   "execution_count": 8,
   "id": "d7406306-cf34-414e-95f5-10a88cb42887",
   "metadata": {},
   "outputs": [
    {
     "data": {
      "text/plain": [
       "'\\n## Data Science Languages\\n- Python\\n- R\\n- SQL\\n- Julia\\n- Scala\\n- Java\\n- C++\\n- JavaScript\\n'"
      ]
     },
     "execution_count": 8,
     "metadata": {},
     "output_type": "execute_result"
    }
   ],
   "source": [
    "## Exercise 4 - List Data Science Languages\n",
    "\"\"\"\n",
    "## Data Science Languages\n",
    "- Python\n",
    "- R\n",
    "- SQL\n",
    "- Julia\n",
    "- Scala\n",
    "- Java\n",
    "- C++\n",
    "- JavaScript\n",
    "\"\"\""
   ]
  },
  {
   "cell_type": "code",
   "execution_count": 10,
   "id": "f25a10b8-9d41-485d-ae0b-3cd17d6b592f",
   "metadata": {},
   "outputs": [
    {
     "data": {
      "text/plain": [
       "'\\n## Data Science Libraries\\n- NumPy\\n- Pandas\\n- Matplotlib\\n- Seaborn\\n- Scikit-learn\\n- TensorFlow\\n- PyTorch\\n- Keras\\n'"
      ]
     },
     "execution_count": 10,
     "metadata": {},
     "output_type": "execute_result"
    }
   ],
   "source": [
    "\n",
    "## Exercise 5 - List Data Science Libraries\n",
    "\"\"\"\n",
    "## Data Science Libraries\n",
    "- NumPy\n",
    "- Pandas\n",
    "- Matplotlib\n",
    "- Seaborn\n",
    "- Scikit-learn\n",
    "- TensorFlow\n",
    "- PyTorch\n",
    "- Keras\n",
    "\"\"\""
   ]
  },
  {
   "cell_type": "code",
   "execution_count": 12,
   "id": "435ae7c9-8f22-42e8-9441-25e698b6a13c",
   "metadata": {},
   "outputs": [
    {
     "name": "stdout",
     "output_type": "stream",
     "text": [
      "+------------------+-------------------------------+\n",
      "| Tool             | Purpose                       |\n",
      "+==================+===============================+\n",
      "| Jupyter Notebook | Data Analysis & Visualization |\n",
      "+------------------+-------------------------------+\n",
      "| RStudio          | Statistical Computing         |\n",
      "+------------------+-------------------------------+\n",
      "| Apache Spark     | Big Data Processing           |\n",
      "+------------------+-------------------------------+\n",
      "| TensorFlow       | Machine Learning              |\n",
      "+------------------+-------------------------------+\n",
      "| Tableau          | Data Visualization            |\n",
      "+------------------+-------------------------------+\n"
     ]
    }
   ],
   "source": [
    "## Exercise 6 - Table of Data Science Tools\n",
    "from tabulate import tabulate\n",
    "\n",
    "data = [['Jupyter Notebook', 'Data Analysis & Visualization'],\n",
    "        ['RStudio', 'Statistical Computing'],\n",
    "        ['Apache Spark', 'Big Data Processing'],\n",
    "        ['TensorFlow', 'Machine Learning'],\n",
    "        ['Tableau', 'Data Visualization']]\n",
    "\n",
    "print(tabulate(data, headers=['Tool', 'Purpose'], tablefmt='grid'))"
   ]
  },
  {
   "cell_type": "code",
   "execution_count": 14,
   "id": "1425d88b-d348-409f-b224-e77716eb7f9a",
   "metadata": {},
   "outputs": [
    {
     "data": {
      "text/plain": [
       "'\\n## Arithmetic Expressions\\nExamples:\\n- Addition: 5 + 3 = 8\\n- Multiplication: 4 * 2 = 8\\n- Division: 10 / 2 = 5\\n- Exponentiation: 2 ** 3 = 8\\n'"
      ]
     },
     "execution_count": 14,
     "metadata": {},
     "output_type": "execute_result"
    }
   ],
   "source": [
    "## Exercise 7 - Arithmetic Expressions\n",
    "\"\"\"\n",
    "## Arithmetic Expressions\n",
    "Examples:\n",
    "- Addition: 5 + 3 = 8\n",
    "- Multiplication: 4 * 2 = 8\n",
    "- Division: 10 / 2 = 5\n",
    "- Exponentiation: 2 ** 3 = 8\n",
    "\"\"\""
   ]
  },
  {
   "cell_type": "code",
   "execution_count": 16,
   "id": "91fb0651-d9eb-4662-ae7b-26739d57748b",
   "metadata": {},
   "outputs": [
    {
     "name": "stdout",
     "output_type": "stream",
     "text": [
      "Result: 25\n"
     ]
    }
   ],
   "source": [
    "## Exercise 8 - Code Cell for Multiplication and Addition\n",
    "# Multiply and add two numbers\n",
    "a = 5\n",
    "b = 3\n",
    "result = a * b + 10\n",
    "print(\"Result:\", result)\n"
   ]
  },
  {
   "cell_type": "code",
   "execution_count": 22,
   "id": "9819b50e-ea9e-4542-b4b5-7deb6a206568",
   "metadata": {},
   "outputs": [
    {
     "name": "stdout",
     "output_type": "stream",
     "text": [
      "150 minutes is 2.5 hours\n"
     ]
    }
   ],
   "source": [
    "## Exercise 9 - Code Cell to Convert Minutes to Hours\n",
    "# Convert minutes to hours\n",
    "def minutes_to_hours(minutes):\n",
    "    return minutes / 60\n",
    "\n",
    "minutes = 150\n",
    "hours = minutes_to_hours(minutes)\n",
    "print(f\"{minutes} minutes is {hours} hours\")\n"
   ]
  },
  {
   "cell_type": "code",
   "execution_count": 24,
   "id": "4dbbcd18-37c3-447b-abd6-2d0c343c6783",
   "metadata": {},
   "outputs": [
    {
     "data": {
      "text/plain": [
       "'\\n## Objectives\\n- Learn Markdown formatting\\n- Understand basic arithmetic operations\\n- Use Python for simple calculations\\n- Share notebooks on GitHub\\n'"
      ]
     },
     "execution_count": 24,
     "metadata": {},
     "output_type": "execute_result"
    }
   ],
   "source": [
    "## Exercise 10 - List Objectives\n",
    "\"\"\"\n",
    "## Objectives\n",
    "- Learn Markdown formatting\n",
    "- Understand basic arithmetic operations\n",
    "- Use Python for simple calculations\n",
    "- Share notebooks on GitHub\n",
    "\"\"\""
   ]
  },
  {
   "cell_type": "code",
   "execution_count": 26,
   "id": "ab2a458c-a2ae-4337-ab9e-706311fd6353",
   "metadata": {},
   "outputs": [
    {
     "data": {
      "text/plain": [
       "'\\n## Author\\n**Name:** Tafseer Hussain\\n'"
      ]
     },
     "execution_count": 26,
     "metadata": {},
     "output_type": "execute_result"
    }
   ],
   "source": [
    "## Exercise 11 - Author’s Name\n",
    "\"\"\"\n",
    "## Author\n",
    "**Name:** Tafseer Hussain\n",
    "\"\"\""
   ]
  },
  {
   "cell_type": "code",
   "execution_count": null,
   "id": "4dfe7fcf-8918-42fa-93fb-38431722cced",
   "metadata": {},
   "outputs": [],
   "source": []
  }
 ],
 "metadata": {
  "kernelspec": {
   "display_name": "Python 3 (ipykernel)",
   "language": "python",
   "name": "python3"
  },
  "language_info": {
   "codemirror_mode": {
    "name": "ipython",
    "version": 3
   },
   "file_extension": ".py",
   "mimetype": "text/x-python",
   "name": "python",
   "nbconvert_exporter": "python",
   "pygments_lexer": "ipython3",
   "version": "3.12.4"
  }
 },
 "nbformat": 4,
 "nbformat_minor": 5
}
